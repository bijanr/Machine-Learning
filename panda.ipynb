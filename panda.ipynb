{
 "cells": [
  {
   "cell_type": "code",
   "execution_count": 4,
   "metadata": {},
   "outputs": [],
   "source": [
    "import pandas as pd\n"
   ]
  },
  {
   "cell_type": "code",
   "execution_count": null,
   "metadata": {},
   "outputs": [
    {
     "ename": "",
     "evalue": "",
     "output_type": "error",
     "traceback": [
      "\u001b[1;31mThe kernel failed to start as the Python Environment '.venv (Python -1.-1.-1)' is no longer available. Consider selecting another kernel or refreshing the list of Python Environments."
     ]
    }
   ],
   "source": [
    "mydataset = {\n",
    "  'cars': [\"BMW\", \"Volvo\", \"Ford\"],\n",
    "  'passings': [3, 7, 2]\n",
    "}\n",
    "\n",
    "myvar = pd.DataFrame(mydataset)\n",
    "\n",
    "print(myvar)"
   ]
  },
  {
   "cell_type": "code",
   "execution_count": 6,
   "metadata": {},
   "outputs": [
    {
     "name": "stdout",
     "output_type": "stream",
     "text": [
      "           UP     WB       Kerla\n",
      "Food    Rajma   Fish     Coconut\n",
      "Name  Ibrahim  Harsh  Prithyjeet\n"
     ]
    }
   ],
   "source": [
    "a = ['Rajma', 'Fish', 'Coconut']\n",
    "b = ['Ibrahim', 'Harsh', 'Prithyjeet']\n",
    "c = ['UP', 'WB', 'Kerla']\n",
    "ind = ['Food', 'Name']\n",
    "\n",
    "series1 = pd.Series(a, index=c)\n",
    "dataset1 = pd.DataFrame([a,b], index=ind, columns=c)\n",
    "print(dataset1)"
   ]
  },
  {
   "cell_type": "code",
   "execution_count": 7,
   "metadata": {},
   "outputs": [
    {
     "name": "stdout",
     "output_type": "stream",
     "text": [
      "       Hans  Shyam  Madhu\n",
      "Sub1     85     85     96\n",
      "Hindi    90     10     24\n",
      "Sub2     70     85     20\n"
     ]
    }
   ],
   "source": [
    "studentData = {'Hans'  : pd.Series([90, 85, 70], index=['Hindi', 'English', 'Math']),\n",
    "               'Shyam' : pd.Series([10, 85, 85], index=['Hindi', 'English', 'Math']),\n",
    "               'Madhu' : pd.Series([20, 96, 24], index=['Math', 'English', 'Hindi'])\n",
    "              }\n",
    "\n",
    "var = pd.DataFrame(studentData)\n",
    "\n",
    "var2 = var.rename({'English': 'Sub1', 'Math': 'Sub2'})\n",
    "print(var2)"
   ]
  },
  {
   "cell_type": "code",
   "execution_count": 11,
   "metadata": {},
   "outputs": [
    {
     "ename": "TypeError",
     "evalue": "DataFrame.combine() missing 1 required positional argument: 'func'",
     "output_type": "error",
     "traceback": [
      "\u001b[31m---------------------------------------------------------------------------\u001b[39m",
      "\u001b[31mTypeError\u001b[39m                                 Traceback (most recent call last)",
      "\u001b[36mCell\u001b[39m\u001b[36m \u001b[39m\u001b[32mIn[11]\u001b[39m\u001b[32m, line 4\u001b[39m\n\u001b[32m      1\u001b[39m df8 = pd.DataFrame([[\u001b[32m1\u001b[39m, \u001b[32m2\u001b[39m, \u001b[32m3\u001b[39m], [\u001b[32m4\u001b[39m, \u001b[32m5\u001b[39m], [\u001b[32m6\u001b[39m]], columns = [\u001b[33m'\u001b[39m\u001b[33mc1\u001b[39m\u001b[33m'\u001b[39m, \u001b[33m'\u001b[39m\u001b[33mc2\u001b[39m\u001b[33m'\u001b[39m, \u001b[33m'\u001b[39m\u001b[33mc3\u001b[39m\u001b[33m'\u001b[39m], index=[\u001b[33m'\u001b[39m\u001b[33mr1\u001b[39m\u001b[33m'\u001b[39m, \u001b[33m'\u001b[39m\u001b[33mr2\u001b[39m\u001b[33m'\u001b[39m, \u001b[33m'\u001b[39m\u001b[33mr3\u001b[39m\u001b[33m'\u001b[39m])\n\u001b[32m      2\u001b[39m df9 = pd.DataFrame([[\u001b[32m10\u001b[39m, \u001b[32m20\u001b[39m], [\u001b[32m30\u001b[39m], [\u001b[32m40\u001b[39m, \u001b[32m50\u001b[39m]], columns = [\u001b[33m'\u001b[39m\u001b[33mc2\u001b[39m\u001b[33m'\u001b[39m, \u001b[33m'\u001b[39m\u001b[33mc5\u001b[39m\u001b[33m'\u001b[39m], index=[\u001b[33m'\u001b[39m\u001b[33mr4\u001b[39m\u001b[33m'\u001b[39m, \u001b[33m'\u001b[39m\u001b[33mr2\u001b[39m\u001b[33m'\u001b[39m, \u001b[33m'\u001b[39m\u001b[33mr5\u001b[39m\u001b[33m'\u001b[39m])\n\u001b[32m----> \u001b[39m\u001b[32m4\u001b[39m df10 = \u001b[43mdf9\u001b[49m\u001b[43m.\u001b[49m\u001b[43mcombine\u001b[49m\u001b[43m(\u001b[49m\u001b[43mdf8\u001b[49m\u001b[43m)\u001b[49m\n\u001b[32m      6\u001b[39m \u001b[38;5;28mprint\u001b[39m(df10)\n",
      "\u001b[31mTypeError\u001b[39m: DataFrame.combine() missing 1 required positional argument: 'func'"
     ]
    }
   ],
   "source": [
    "df8 = pd.DataFrame([[1, 2, 3], [4, 5], [6]], columns = ['c1', 'c2', 'c3'], index=['r1', 'r2', 'r3'])\n",
    "df9 = pd.DataFrame([[10, 20], [30], [40, 50]], columns = ['c2', 'c5'], index=['r4', 'r2', 'r5'])\n",
    "\n",
    "df10 = df9.from_records(df8)\n",
    "\n",
    "print(df10)"
   ]
  }
 ],
 "metadata": {
  "kernelspec": {
   "display_name": ".venv",
   "language": "python",
   "name": "python3"
  },
  "language_info": {
   "codemirror_mode": {
    "name": "ipython",
    "version": 3
   },
   "file_extension": ".py",
   "mimetype": "text/x-python",
   "name": "python",
   "nbconvert_exporter": "python",
   "pygments_lexer": "ipython3",
   "version": "-1.-1.-1"
  }
 },
 "nbformat": 4,
 "nbformat_minor": 2
}
